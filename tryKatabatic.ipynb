{
 "cells": [
  {
   "cell_type": "markdown",
   "metadata": {},
   "source": [
    "# Katabatic\n",
    "\n",
    "\n",
    "Here's how to import a model from the models module:"
   ]
  },
  {
   "cell_type": "code",
   "execution_count": 13,
   "metadata": {},
   "outputs": [],
   "source": [
    "from katabatic.katabatic import Katabatic "
   ]
  },
  {
   "cell_type": "code",
   "execution_count": 11,
   "metadata": {},
   "outputs": [
    {
     "name": "stdout",
     "output_type": "stream",
     "text": [
      "--------------------------\n",
      "module name:    katabatic.katabatic\n",
      "parent process: 75729\n",
      "process id:     78614\n"
     ]
    },
    {
     "ename": "FileNotFoundError",
     "evalue": "[Errno 2] No such file or directory: '/Users/jaime/repos/katabatic/katabatic_config.json'",
     "output_type": "error",
     "traceback": [
      "\u001b[0;31m---------------------------------------------------------------------------\u001b[0m",
      "\u001b[0;31mFileNotFoundError\u001b[0m                         Traceback (most recent call last)",
      "\u001b[1;32m/Users/jaime/repos/katabatic/tryKatabatic.ipynb Cell 3\u001b[0m line \u001b[0;36m1\n\u001b[0;32m----> <a href='vscode-notebook-cell:/Users/jaime/repos/katabatic/tryKatabatic.ipynb#W2sZmlsZQ%3D%3D?line=0'>1</a>\u001b[0m model \u001b[39m=\u001b[39m Katabatic\u001b[39m.\u001b[39;49mrun_model(\u001b[39m'\u001b[39;49m\u001b[39mctgan\u001b[39;49m\u001b[39m'\u001b[39;49m)\n\u001b[1;32m      <a href='vscode-notebook-cell:/Users/jaime/repos/katabatic/tryKatabatic.ipynb#W2sZmlsZQ%3D%3D?line=1'>2</a>\u001b[0m model\u001b[39m.\u001b[39mfit(\u001b[39m4\u001b[39m,\u001b[39m4\u001b[39m)\n",
      "File \u001b[0;32m~/repos/katabatic/katabatic/katabatic.py:22\u001b[0m, in \u001b[0;36mKatabatic.run_model\u001b[0;34m(model_name)\u001b[0m\n\u001b[1;32m     19\u001b[0m \u001b[39mprint\u001b[39m(\u001b[39mf\u001b[39m\u001b[39m\"\u001b[39m\u001b[39mparent process: \u001b[39m\u001b[39m{\u001b[39;00mos\u001b[39m.\u001b[39mgetppid()\u001b[39m}\u001b[39;00m\u001b[39m\"\u001b[39m)\n\u001b[1;32m     20\u001b[0m \u001b[39mprint\u001b[39m(\u001b[39mf\u001b[39m\u001b[39m\"\u001b[39m\u001b[39mprocess id:     \u001b[39m\u001b[39m{\u001b[39;00mos\u001b[39m.\u001b[39mgetpid()\u001b[39m}\u001b[39;00m\u001b[39m\"\u001b[39m)\n\u001b[0;32m---> 22\u001b[0m \u001b[39mwith\u001b[39;00m \u001b[39mopen\u001b[39;49m(CONFIG_FILE, \u001b[39m\"\u001b[39;49m\u001b[39mr\u001b[39;49m\u001b[39m\"\u001b[39;49m) \u001b[39mas\u001b[39;00m file: \u001b[39m# Open config file as read only\u001b[39;00m\n\u001b[1;32m     23\u001b[0m     config \u001b[39m=\u001b[39m json\u001b[39m.\u001b[39mload(file) \u001b[39m# config is a dict of dicts, each containing config variables for a model.\u001b[39;00m\n\u001b[1;32m     25\u001b[0m     \u001b[39mif\u001b[39;00m \u001b[39mnot\u001b[39;00m model_name \u001b[39min\u001b[39;00m config:\n",
      "\u001b[0;31mFileNotFoundError\u001b[0m: [Errno 2] No such file or directory: '/Users/jaime/repos/katabatic/katabatic_config.json'"
     ]
    }
   ],
   "source": [
    "model = Katabatic.run_model('ctgan')\n",
    "model.fit(4,4)"
   ]
  },
  {
   "cell_type": "code",
   "execution_count": 11,
   "metadata": {},
   "outputs": [],
   "source": [
    "new_dummy_model = dummy.DummyModel(3,4)"
   ]
  },
  {
   "cell_type": "markdown",
   "metadata": {},
   "source": [
    "Here's how to initialise a model:"
   ]
  },
  {
   "cell_type": "code",
   "execution_count": 13,
   "metadata": {},
   "outputs": [
    {
     "ename": "NameError",
     "evalue": "name 'model' is not defined",
     "output_type": "error",
     "traceback": [
      "\u001b[0;31m---------------------------------------------------------------------------\u001b[0m",
      "\u001b[0;31mNameError\u001b[0m                                 Traceback (most recent call last)",
      "\u001b[1;32m/Users/jaime/repos/katabatic/tryKatabatic.ipynb Cell 6\u001b[0m line \u001b[0;36m1\n\u001b[0;32m----> <a href='vscode-notebook-cell:/Users/jaime/repos/katabatic/tryKatabatic.ipynb#W6sZmlsZQ%3D%3D?line=0'>1</a>\u001b[0m newmodel \u001b[39m=\u001b[39m model\u001b[39m.\u001b[39minit()\n",
      "\u001b[0;31mNameError\u001b[0m: name 'model' is not defined"
     ]
    }
   ],
   "source": [
    "newmodel = model.init()"
   ]
  },
  {
   "cell_type": "markdown",
   "metadata": {},
   "source": [
    "Here's how to fit data to the model:"
   ]
  },
  {
   "cell_type": "code",
   "execution_count": null,
   "metadata": {},
   "outputs": [],
   "source": [
    "newmodel.fit()"
   ]
  },
  {
   "cell_type": "code",
   "execution_count": null,
   "metadata": {},
   "outputs": [],
   "source": [
    "# Future import statement ideas\n",
    "\n",
    "import katabatic as kb\n",
    "from katabatic.models import meg\n",
    "from katabatic.models import ganblr\n",
    "from katabatic.evaluate import eval_method1\n",
    "from katabatic.utils.preprocessing import data_processing_method1  # good place to store preprocessing utilities"
   ]
  }
 ],
 "metadata": {
  "kernelspec": {
   "display_name": "Python 3",
   "language": "python",
   "name": "python3"
  },
  "language_info": {
   "codemirror_mode": {
    "name": "ipython",
    "version": 3
   },
   "file_extension": ".py",
   "mimetype": "text/x-python",
   "name": "python",
   "nbconvert_exporter": "python",
   "pygments_lexer": "ipython3",
   "version": "3.8.18"
  }
 },
 "nbformat": 4,
 "nbformat_minor": 2
}
